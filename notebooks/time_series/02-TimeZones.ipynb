{
 "cells": [
  {
   "cell_type": "markdown",
   "id": "7d3c5536-34c7-404f-b362-dab549c22b15",
   "metadata": {},
   "source": [
    "<img src=\"../assets/data_analysis_with_polars_copyright-1.png\" width=\"600\"/>\n",
    "\n",
    "If you want to join me on the course [**use this referral link**](https://www.udemy.com/course/data-analysis-with-polars/?referralCode=A29DCDA40D369080C05A)\n",
    "\n",
    "\n",
    "\n",
    "## Working with time zones\n",
    "\n",
    "By the end of this lecture you will be able to:\n",
    "- add a time zone to a datetime\n",
    "- change the time zone\n",
    "- explain the use case of the different time zone functions\n",
    "- get the time difference between time zones\n",
    "\n",
    "Working with time zones can be tricky. In this lecture we break it down to understand how the different time zone functions work."
   ]
  },
  {
   "cell_type": "code",
   "execution_count": null,
   "id": "9230f184",
   "metadata": {},
   "outputs": [],
   "source": [
    "%pip install polars"
   ]
  },
  {
   "cell_type": "code",
   "execution_count": 4,
   "id": "54cf6c48-94dc-4fbc-a701-9028a83af5f9",
   "metadata": {},
   "outputs": [],
   "source": [
    "from datetime import date,datetime\n",
    "\n",
    "import polars as pl"
   ]
  },
  {
   "cell_type": "markdown",
   "id": "c606776c-1ba9-4315-ba57-a41c5dca31a8",
   "metadata": {},
   "source": [
    "## Creating a simple `DataFrame`\n",
    "\n",
    "We create a `DataFrame` that has a single value in the `date` column - 1970/1/1 00:00:00\n",
    "\n",
    "This date is the origin point for Unix timestamps. If we instead use a contemporary datetime it can be tricky to track changes in the integer representations as we are looking for small differences in large numbers.\n",
    "\n",
    "To make things easier we will convert the integer representations from microseconds to hours with the following conversion factor"
   ]
  },
  {
   "cell_type": "code",
   "execution_count": 5,
   "id": "eeecd8f4-fe84-4831-ac1f-2d02094c9aa2",
   "metadata": {},
   "outputs": [],
   "source": [
    "# Conversion factor to convert integer timestamps to hours\n",
    "microseconds_per_hour = 3600 * 1e6"
   ]
  },
  {
   "cell_type": "markdown",
   "id": "acfed7a5-9c81-44aa-a830-5beb6ca0e77a",
   "metadata": {},
   "source": [
    "In the `DataFrame` we also add a column `date_p` with the physical integer representation coverted from (integer) microseconds to (floating point) hours"
   ]
  },
  {
   "cell_type": "code",
   "execution_count": 6,
   "id": "a0f876c4-867b-48ce-8bcf-6a3c82238c79",
   "metadata": {},
   "outputs": [
    {
     "data": {
      "text/html": [
       "<div>\n",
       "<style scoped>\n",
       "    .dataframe tbody tr th:only-of-type {\n",
       "        vertical-align: middle;\n",
       "    }\n",
       "\n",
       "    .dataframe tbody tr th {\n",
       "        vertical-align: top;\n",
       "    }\n",
       "\n",
       "    .dataframe thead th {\n",
       "        text-align: right;\n",
       "    }\n",
       "\n",
       "    .dataframe td {\n",
       "        white-space: pre;\n",
       "    }\n",
       "\n",
       "    .dataframe td {\n",
       "        padding-top: 0;\n",
       "    }\n",
       "\n",
       "    .dataframe td {\n",
       "        padding-bottom: 0;\n",
       "    }\n",
       "\n",
       "    .dataframe td {\n",
       "        line-height: 95%;\n",
       "    }\n",
       "</style>\n",
       "<table border=\"1\" class=\"dataframe\" >\n",
       "<small>shape: (1, 2)</small>\n",
       "<thead>\n",
       "<tr>\n",
       "<th>\n",
       "date\n",
       "</th>\n",
       "<th>\n",
       "date_p\n",
       "</th>\n",
       "</tr>\n",
       "<tr>\n",
       "<td>\n",
       "datetime[μs]\n",
       "</td>\n",
       "<td>\n",
       "f64\n",
       "</td>\n",
       "</tr>\n",
       "</thead>\n",
       "<tbody>\n",
       "<tr>\n",
       "<td>\n",
       "1970-01-01 00:00:00\n",
       "</td>\n",
       "<td>\n",
       "0.0\n",
       "</td>\n",
       "</tr>\n",
       "</tbody>\n",
       "</table>\n",
       "</div>"
      ],
      "text/plain": [
       "shape: (1, 2)\n",
       "┌─────────────────────┬────────┐\n",
       "│ date                ┆ date_p │\n",
       "│ ---                 ┆ ---    │\n",
       "│ datetime[μs]        ┆ f64    │\n",
       "╞═════════════════════╪════════╡\n",
       "│ 1970-01-01 00:00:00 ┆ 0.0    │\n",
       "└─────────────────────┴────────┘"
      ]
     },
     "execution_count": 6,
     "metadata": {},
     "output_type": "execute_result"
    }
   ],
   "source": [
    "df = (\n",
    "    pl.DataFrame(\n",
    "        {\n",
    "            \"date\":[datetime(1970,1,1)]\n",
    "        }\n",
    "    )\n",
    "    .with_column(\n",
    "        pl.col(\"date\").to_physical().alias(\"date_p\")/microseconds_per_hour\n",
    "    )\n",
    ")\n",
    "df"
   ]
  },
  {
   "cell_type": "markdown",
   "id": "0fca234a-a2bd-4f9d-87b8-a700d447bfba",
   "metadata": {},
   "source": [
    "By default a `pl.Datetime` is **time zone-naive** - it has no time zone attached. Implicitly, however, a time zone-naive value is in the UTC time zone as 1970-01-01 00:00:00 as it corresponds to a timestamp of 0.\n",
    "\n",
    "## Specify a time zone for a given datetime\n",
    "If we know that the datetimes are not UTC but actually record a local datetime in a time zone we can specify the time zone with `dt.tz_localize`\n",
    "\n",
    "The names of the time zone locations come from the Rust library chrono-tz. <a href=\"https://docs.rs/chrono-tz/latest/chrono_tz/enum.Tz.html\" target=\"_blank\"> See here for the full list of supported time zone names and locations</a>.\n",
    "\n",
    "\n",
    "We tell Polars that this datetime is actually a local time in New York. We do this in a new column `tz_local` and also add the physical representation in `tz_local_p`"
   ]
  },
  {
   "cell_type": "code",
   "execution_count": 7,
   "id": "e183c2f9-8d65-4e3a-a316-6df339ce9c09",
   "metadata": {},
   "outputs": [
    {
     "ename": "AttributeError",
     "evalue": "'ExprDateTimeNameSpace' object has no attribute 'tz_localize'",
     "output_type": "error",
     "traceback": [
      "\u001b[0;31m---------------------------------------------------------------------------\u001b[0m",
      "\u001b[0;31mAttributeError\u001b[0m                            Traceback (most recent call last)",
      "Cell \u001b[0;32mIn [7], line 5\u001b[0m\n\u001b[1;32m      1\u001b[0m (\n\u001b[1;32m      2\u001b[0m     df\n\u001b[1;32m      3\u001b[0m     \u001b[38;5;241m.\u001b[39mwith_columns(\n\u001b[1;32m      4\u001b[0m         [\n\u001b[0;32m----> 5\u001b[0m             \u001b[43mpl\u001b[49m\u001b[38;5;241;43m.\u001b[39;49m\u001b[43mcol\u001b[49m\u001b[43m(\u001b[49m\u001b[38;5;124;43m\"\u001b[39;49m\u001b[38;5;124;43mdate\u001b[39;49m\u001b[38;5;124;43m\"\u001b[39;49m\u001b[43m)\u001b[49m\u001b[38;5;241;43m.\u001b[39;49m\u001b[43mdt\u001b[49m\u001b[38;5;241;43m.\u001b[39;49m\u001b[43mtz_localize\u001b[49m(\u001b[38;5;124m\"\u001b[39m\u001b[38;5;124mAmerica/New_York\u001b[39m\u001b[38;5;124m\"\u001b[39m)\u001b[38;5;241m.\u001b[39malias(\u001b[38;5;124m\"\u001b[39m\u001b[38;5;124mtz_local\u001b[39m\u001b[38;5;124m\"\u001b[39m),\n\u001b[1;32m      6\u001b[0m             pl\u001b[38;5;241m.\u001b[39mcol(\u001b[38;5;124m\"\u001b[39m\u001b[38;5;124mdate\u001b[39m\u001b[38;5;124m\"\u001b[39m)\u001b[38;5;241m.\u001b[39mdt\u001b[38;5;241m.\u001b[39mtz_localize(\u001b[38;5;124m\"\u001b[39m\u001b[38;5;124mAmerica/New_York\u001b[39m\u001b[38;5;124m\"\u001b[39m)\u001b[38;5;241m.\u001b[39mto_physical()\u001b[38;5;241m.\u001b[39malias(\u001b[38;5;124m\"\u001b[39m\u001b[38;5;124mtz_local_p\u001b[39m\u001b[38;5;124m\"\u001b[39m)\u001b[38;5;241m/\u001b[39mmicroseconds_per_hour\n\u001b[1;32m      7\u001b[0m         ]\n\u001b[1;32m      8\u001b[0m     )\n\u001b[1;32m      9\u001b[0m )\n",
      "\u001b[0;31mAttributeError\u001b[0m: 'ExprDateTimeNameSpace' object has no attribute 'tz_localize'"
     ]
    }
   ],
   "source": [
    "(\n",
    "    df\n",
    "    .with_columns(\n",
    "        [\n",
    "            pl.col(\"date\").dt.tz_localize(\"America/New_York\").alias(\"tz_local\"),\n",
    "            pl.col(\"date\").dt.tz_localize(\"America/New_York\").to_physical().alias(\"tz_local_p\")/microseconds_per_hour\n",
    "        ]\n",
    "    )\n",
    ")"
   ]
  },
  {
   "cell_type": "markdown",
   "id": "1375cde8-fefd-4f47-af09-93147dacc3c7",
   "metadata": {},
   "source": [
    "By calling `dt.tz_localize`:\n",
    "- the datetime hasn't changed from 1970-01-01 00:00:00 but now has the EST timezone\n",
    "- the physical representation **has changed** from 0 to 5 hours\n",
    "\n",
    "The physical representation must change by 5 hours because 1970-01-01 00:00:00 EST occured 5 hours into the Unix epoch\n",
    "\n",
    "> Terminology: we refer to the difference in hours between timezones as the *offset*. For example the offset between 1970-01-01 00:00:00 UTC and 1969-12-31 19:00:00 EST is 5 hours.\n",
    "\n",
    "## Change the time zone for a given Unix timestamp \n",
    "In this scenario we know that the original data was recorded in Unix timestamps and so is in the UTC timezone. We now want to know what local time that UTC timestamp corresponds to in New York. \n",
    "\n",
    "In this case we use `df.with_time_zone`"
   ]
  },
  {
   "cell_type": "code",
   "execution_count": null,
   "id": "191d0d3d-3341-452b-a3d6-f67253b71a1a",
   "metadata": {},
   "outputs": [],
   "source": [
    "(\n",
    "    df\n",
    "    .with_columns(\n",
    "        [\n",
    "            pl.col(\"date\").dt.with_time_zone(\"America/New_York\").alias(\"with_tz\"),\n",
    "            pl.col(\"date\").dt.with_time_zone(\"America/New_York\").to_physical().alias(\"with_tz_p\")/microseconds_per_hour\n",
    "        ]\n",
    "    )\n",
    ")"
   ]
  },
  {
   "cell_type": "markdown",
   "id": "17b9f1ff-0c8d-4204-acf1-85e2f82d245e",
   "metadata": {},
   "source": [
    "By calling `dt.with_time_zone`:\n",
    "- the datetime **has been offset** by -5 hours to 1969-12-31 19:00:00 as EST is 5 hours behind UTC\n",
    "- the physical representation has not changed from 0\n",
    "\n",
    "## Change the Unix timestamp *and* the datetime\n",
    "The third time zone function `dt.cast_time_zone` sometimes causes confusion. We set out what it does before we see a use case for it later.\n",
    "\n",
    "We can only call `dt.cast_time_zone` on a `pl.Datetime` that already has a timezone. \n",
    "\n",
    "In this example we do `dt.cast_time_zone` on the `with_tz` column that has the New York time zone"
   ]
  },
  {
   "cell_type": "code",
   "execution_count": null,
   "id": "d47ff3d3-8096-4798-b0bd-98aec1508b2a",
   "metadata": {},
   "outputs": [],
   "source": [
    "(\n",
    "    df\n",
    "    .with_columns(\n",
    "        [\n",
    "            pl.col(\"date\").dt.with_time_zone(\"America/New_York\").alias(\"with_tz\"),\n",
    "            pl.col(\"date\").dt.with_time_zone(\"America/New_York\").to_physical().alias(\"with_tz_p\")/microseconds_per_hour\n",
    "        ]\n",
    "    )\n",
    "    .with_columns(\n",
    "            [\n",
    "                pl.col(\"with_tz\").dt.cast_time_zone(\"UTC\").alias(\"cast_tz\"),\n",
    "                pl.col(\"with_tz\").dt.cast_time_zone(\"UTC\").to_physical().alias(\"cast_tz_p\")/microseconds_per_hour\n",
    "            ]\n",
    "    )\n",
    ")"
   ]
  },
  {
   "cell_type": "markdown",
   "id": "b1b04ca1-35b6-4cad-bbfb-48de52e38495",
   "metadata": {},
   "source": [
    "By calling `dt.cast_time_zone` from New York to UTC:\n",
    "- the datetime **moved forward by 10 hours** from 19:00 on 31st December to 05:00 on 1st December in `cast_tz`\n",
    "- the physical timestamp **changed from 0 to 5 hours** in `cast_tz_p`\n",
    "\n",
    "The change in datetime is 10 hours: 5 hours from changing the timestamp by 5 hours and then 5 more hours because the offset between UTC and EST is 5 hours.\n",
    "\n",
    "The behaviour of `dt.cast_time_zone` may be confusing because it is not typically what we are looking for when converting time zones. However, we see how it is useful for calculating offsets between time zones later in this lecture.\n",
    "\n",
    "### Summary of the methods\n",
    "We summarise these methods here. The Datetime column reflects whether the datetime changes e.g. 1970-01-01 00:00:00 to 1969-12-31 19:00:00\n",
    "| Method |Datetime |Time zone | Timestamp|\n",
    "|---|---|---|---|\n",
    "| `dt.tz_localize` | No change|Adds time zone | Changes timestamp |\n",
    "| `dt.with_time_zone` | Changes by offset|Adds/changes time zone | No change |\n",
    "| `dt.cast_time_zone` | Double change|Changes time zone | Changes |\n",
    "\n",
    "Example use cases:\n",
    "- `dt.tz_localize` when your data records when things happened in local time\n",
    "- `dt.with_time_zone` when your data records when things happened in Unix timestamps and you want to know what this was in local time\n",
    "- `dt.cast_time_zone` when you want to calculate the offset between time zones (see below)"
   ]
  },
  {
   "cell_type": "markdown",
   "id": "9a68680e-6cf2-4b5a-acb2-aed0a78de25c",
   "metadata": {},
   "source": [
    "## Offset between time zones\n",
    "We use `dt.cast_time_zone` to get the offset between time zones.\n",
    "\n",
    "To illustrate this we create a `DataFrame` with a date column containing monthly data. We will specify a date range that covers the shift in dayslight savings time"
   ]
  },
  {
   "cell_type": "code",
   "execution_count": null,
   "id": "9062a42e-854b-4856-a29e-e9e49d73f771",
   "metadata": {},
   "outputs": [],
   "source": [
    "pl.Config.set_tbl_rows(6)\n",
    "start = datetime(2022,1,1)\n",
    "stop = datetime(2022,6,1)\n",
    "df = (\n",
    "    pl.DataFrame(\n",
    "        {\n",
    "            'date':pl.date_range(\n",
    "                low = start,\n",
    "                high = stop,\n",
    "                interval='1mo',\n",
    "            ),\n",
    "         }\n",
    "    )\n",
    ")\n",
    "df"
   ]
  },
  {
   "cell_type": "markdown",
   "id": "4071f4e7-19e2-4a4d-848b-5b72433d4bf6",
   "metadata": {},
   "source": [
    "As we saw above, when we do a `cast_time_zone` on a timezone column we **change the integer representation** by the time difference. This time difference gives us the offset between time zones.\n",
    "\n",
    "First we add a column called `date_london` that gives `date` in the London time zone.\n",
    "\n",
    "Then we add a column called `date_nyc` that gives the London datetime in the New York time zone. Neither of these operations change the integer representation"
   ]
  },
  {
   "cell_type": "code",
   "execution_count": null,
   "id": "4719ac14-fefa-41b3-98a4-0edddbd52063",
   "metadata": {},
   "outputs": [],
   "source": [
    "(\n",
    "    df\n",
    "    # Add a timezone column for London\n",
    "    .with_column(\n",
    "            pl.col(\"date\").dt.with_time_zone(tz=\"Europe/London\").alias(\"date_london\"),\n",
    "    )\n",
    "    # Cast the london column to New York\n",
    "    .with_column(\n",
    "            pl.col(\"date_london\").dt.with_time_zone(tz=\"America/New_York\").alias(\"date_nyc\")\n",
    "    )\n",
    ")"
   ]
  },
  {
   "cell_type": "markdown",
   "id": "a2060987-c5cc-43cb-a8f7-9ad6c054b32a",
   "metadata": {},
   "source": [
    "We expand this query below. \n",
    "\n",
    "We add a `with_column` step where we use `cast_time_zone` to get the time difference between the London and New York time zones as a `pl.Duration`"
   ]
  },
  {
   "cell_type": "code",
   "execution_count": null,
   "id": "427ea55d-bc49-457b-bf5b-9c77f31677cb",
   "metadata": {},
   "outputs": [],
   "source": [
    "(\n",
    "    df\n",
    "    # Add a timezone column for London\n",
    "    .with_column(\n",
    "            pl.col(\"date\").dt.with_time_zone(tz=\"Europe/London\").alias(\"date_london\"),\n",
    "    )\n",
    "    # Convert the London timezone to New York\n",
    "    .with_column(\n",
    "            pl.col(\"date_london\").dt.with_time_zone(tz=\"America/New_York\").alias(\"date_nyc\")\n",
    "    )\n",
    "    # Cast the New York timezone to London and subtract\n",
    "    .with_column(\n",
    "        \n",
    "            (\n",
    "                pl.col(\"date_london\") - pl.col(\"date_nyc\").dt.cast_time_zone(\"Europe/London\")\n",
    "            ).alias(\"offset\")\n",
    "    )\n",
    ")"
   ]
  },
  {
   "cell_type": "markdown",
   "id": "bef1683b-395b-48a0-bf68-0d4aa41e2353",
   "metadata": {},
   "source": [
    "When we cast the New York time zone to London the integer representation changed by the size of the offset. So when we subtracted\n",
    "```python\n",
    "pl.col(\"date_london\") - pl.col(\"date_nyc\").dt.cast_time_zone(\"Europe/London\")\n",
    "```\n",
    "the difference is the offset between the time zones.\n",
    "\n",
    "> Historical note - The UK used BST all year-round in 1970 whereas today it only applies from late March to late October."
   ]
  },
  {
   "cell_type": "markdown",
   "id": "8a0f0042-3b52-497c-8ab0-855db9f2b78c",
   "metadata": {},
   "source": [
    "## Exercises\n",
    "In the exercises you will develop your understanding of:\n",
    "- setting the time zone\n",
    "- changing the time zone\n",
    "- getting the time difference between time zones\n",
    "\n",
    "\n",
    "## Exercise 1\n",
    "Create a `DataFrame` with a `date` column at monthly intervals from 1st September 2020 to 1st December 2020"
   ]
  },
  {
   "cell_type": "code",
   "execution_count": null,
   "id": "600b129b-2050-4a30-9040-524d330f4fa1",
   "metadata": {},
   "outputs": [],
   "source": [
    "start = datetime(2020,9,1)\n",
    "stop = datetime(2020,12,1)\n",
    "(\n",
    "    pl.DataFrame(\n",
    "        {\n",
    "            \"date\":<blank>\n",
    "        }\n",
    "    )\n",
    ")"
   ]
  },
  {
   "cell_type": "markdown",
   "id": "6053972f-ee5b-4e61-8e69-0e700917cdd0",
   "metadata": {},
   "source": [
    "The dates in the `date` column record events that happened in an factory in Johannesburg in South Africa.\n",
    "\n",
    "Transform the `date` column so that the datetimes are local to Johannesburg.\n",
    "\n",
    "Continue with your query from above in each step of this exercise"
   ]
  },
  {
   "cell_type": "code",
   "execution_count": null,
   "id": "2a26d9ae-9874-4fea-ac1a-7e6fef556c1d",
   "metadata": {},
   "outputs": [],
   "source": []
  },
  {
   "cell_type": "markdown",
   "id": "629b08cb-c5fc-416b-82df-1c8139cfa738",
   "metadata": {},
   "source": [
    "Add a column with the integer representation called `date_p`"
   ]
  },
  {
   "cell_type": "code",
   "execution_count": null,
   "id": "3a0eeddd-17a3-4ae4-ab93-3272869d662e",
   "metadata": {},
   "outputs": [],
   "source": []
  },
  {
   "cell_type": "markdown",
   "id": "59e12391-0bb3-43fd-8459-0262a8d8ea4a",
   "metadata": {},
   "source": [
    "You want to know what time it was in the Dublin office when the events happened in Johannesburg. \n",
    "\n",
    "Add a column called `date_dublin` with the local time in Dublin for these events"
   ]
  },
  {
   "cell_type": "code",
   "execution_count": null,
   "id": "1949f6d9-eefe-4447-b78c-6207341c80eb",
   "metadata": {},
   "outputs": [],
   "source": []
  },
  {
   "cell_type": "markdown",
   "id": "8a7723a3-4828-458b-838a-db6da018af62",
   "metadata": {},
   "source": [
    "Add a column called `offset` that shows the offset between Johannesburg and Dublin."
   ]
  },
  {
   "cell_type": "code",
   "execution_count": null,
   "id": "9d491d2e-ccf3-4324-9dcf-b1cf0618a029",
   "metadata": {},
   "outputs": [],
   "source": []
  },
  {
   "cell_type": "markdown",
   "id": "6101ee39-3cd7-4de5-ad05-d386d6abbd02",
   "metadata": {},
   "source": [
    "Why does the offset change over the months?\n",
    "\n",
    "### Exercise 2\n",
    "You have a weather station that records temperature at hourly intervals. The device records data in UTC."
   ]
  },
  {
   "cell_type": "code",
   "execution_count": null,
   "id": "0524e202-b58b-4151-9a71-1d9ea648d8ab",
   "metadata": {},
   "outputs": [],
   "source": [
    "pl.Config.set_tbl_rows(25)\n",
    "import numpy as np\n",
    "start = datetime(2020,9,1)\n",
    "stop = datetime(2020,9,2)\n",
    "(\n",
    "    pl.DataFrame(\n",
    "        {\n",
    "            \"date\":pl.date_range(start,stop,\"1h\")\n",
    "        }\n",
    "    )\n",
    "    .with_column(\n",
    "        # We use a cosine function with a period of 24 hours to generate a fake temperature cycle\n",
    "        25 + 4*((2*np.pi*pl.col(\"date\").to_physical()/(24*60*60*1e6))).cos().alias(\"temperature\")\n",
    "    )\n",
    ")"
   ]
  },
  {
   "cell_type": "markdown",
   "id": "2110486a-a070-4c93-a7c3-3e9cff138e50",
   "metadata": {},
   "source": [
    "From the output we can see that the device is not located in the UTC time zone as the highest temperature is at night and the lowest is in the afternoon.\n",
    "\n",
    "Change the time zone to a location that has higher temperatures in the late afternoon and lower temperatures in the early night (<a href=\"https://docs.rs/chrono-tz/latest/chrono_tz/enum.Tz.html\" target=\"_blank\">there are obviously many such locations, you mainly need to figure out whether to go east or west!</a>\n",
    ")."
   ]
  },
  {
   "cell_type": "code",
   "execution_count": null,
   "id": "b16d68e2-7477-43e1-83a7-d5533ca24e9f",
   "metadata": {},
   "outputs": [],
   "source": [
    "(\n",
    "    pl.DataFrame(\n",
    "        {\n",
    "            \"date\":pl.date_range(start,stop,\"1h\")\n",
    "        }\n",
    "    )\n",
    "    .with_column(\n",
    "        # Use a cosine function with a period of 24 hours to generate a fake temperature cycle\n",
    "        25 + 4*((2*np.pi*pl.col(\"date\").to_physical()/(24*60*60*1e6))).cos().alias(\"temperature\")\n",
    "    )\n",
    "    <blank>\n",
    ")"
   ]
  },
  {
   "cell_type": "markdown",
   "id": "b9cd61d6-7602-41f4-a195-5ef4cf4d1dcc",
   "metadata": {},
   "source": [
    "## Solutions\n",
    "\n",
    "### Solution to Exercise 1"
   ]
  },
  {
   "cell_type": "markdown",
   "id": "883da362-00fb-437f-957e-36fb812f5b7a",
   "metadata": {},
   "source": [
    "Create a `DataFrame` with a `date` column at monthly intervals from 1st September 2020 to 1st December 2020"
   ]
  },
  {
   "cell_type": "code",
   "execution_count": null,
   "id": "f4810fd2-baac-4fb5-8948-0aa0f7c554b4",
   "metadata": {
    "jupyter": {
     "source_hidden": true
    },
    "tags": []
   },
   "outputs": [],
   "source": [
    "start = datetime(2020,9,1)\n",
    "stop = datetime(2020,12,1)\n",
    "(\n",
    "    pl.DataFrame(\n",
    "        {\n",
    "            \"date\":pl.date_range(start,stop,\"1mo\")\n",
    "        }\n",
    "    )\n",
    ")"
   ]
  },
  {
   "cell_type": "markdown",
   "id": "e1eb7ca4-1d53-4c7c-b979-c2968e047d5a",
   "metadata": {},
   "source": [
    "The dates in the `date` column actually record events that happened in an factory in Johannesburg in South Africa.\n",
    "\n",
    "Transform the `date` column so that the datetimes are local to Johannesburg."
   ]
  },
  {
   "cell_type": "code",
   "execution_count": null,
   "id": "9e863257-d439-4d52-8d79-e13f96d4a171",
   "metadata": {
    "jupyter": {
     "source_hidden": true
    },
    "tags": []
   },
   "outputs": [],
   "source": [
    "(\n",
    "    pl.DataFrame(\n",
    "        {\n",
    "            \"date\":pl.date_range(start,stop,\"1mo\")\n",
    "        }\n",
    "    )\n",
    "    .with_column(\n",
    "        pl.col(\"date\").dt.tz_localize(\"Africa/Johannesburg\")\n",
    "    )\n",
    ")"
   ]
  },
  {
   "cell_type": "markdown",
   "id": "37c318f7-3864-49ab-840a-edaba8bfd1fd",
   "metadata": {},
   "source": [
    "Add a column with the integer representation called `date_p`"
   ]
  },
  {
   "cell_type": "code",
   "execution_count": null,
   "id": "0988d621-ff73-4b13-8756-393a43b250b3",
   "metadata": {
    "jupyter": {
     "source_hidden": true
    },
    "tags": []
   },
   "outputs": [],
   "source": [
    "(\n",
    "    pl.DataFrame(\n",
    "        {\n",
    "            \"date\":pl.date_range(start,stop,\"1mo\")\n",
    "        }\n",
    "    )\n",
    "    .with_column(\n",
    "        pl.col(\"date\").dt.tz_localize(\"Africa/Johannesburg\")\n",
    "    )\n",
    "    .with_column(\n",
    "        pl.col(\"date\").to_physical().alias(\"date_p\")\n",
    "    )\n",
    ")"
   ]
  },
  {
   "cell_type": "markdown",
   "id": "5168dc07-e9ca-40ed-9391-82a918d5f480",
   "metadata": {
    "tags": []
   },
   "source": [
    "You want to know what time it was in the Dublin office when the events happened in Johannesburg. \n",
    "\n",
    "Add a column called `date_dublin` with the local time in Dublin for these events"
   ]
  },
  {
   "cell_type": "code",
   "execution_count": null,
   "id": "5247eec2-ff6d-4d2c-a19b-1a92a402a3d2",
   "metadata": {
    "jupyter": {
     "source_hidden": true
    },
    "tags": []
   },
   "outputs": [],
   "source": [
    "(\n",
    "    pl.DataFrame(\n",
    "        {\n",
    "            \"date\":pl.date_range(start,stop,\"1mo\")\n",
    "        }\n",
    "    )\n",
    "    .with_column(\n",
    "        pl.col(\"date\").dt.tz_localize(\"Africa/Johannesburg\")\n",
    "    )\n",
    "    .with_column(\n",
    "        pl.col(\"date\").to_physical().alias(\"date_p\")\n",
    "    )\n",
    "    .with_column(\n",
    "        pl.col(\"date\").dt.with_time_zone(\"Europe/Dublin\").alias(\"date_dublin\")\n",
    "    )\n",
    ")"
   ]
  },
  {
   "cell_type": "markdown",
   "id": "083af864-8d5e-4607-b060-14ae61b0116c",
   "metadata": {},
   "source": [
    "Add a column called `offset` that shows the offset between Johannesburg and Dublin."
   ]
  },
  {
   "cell_type": "code",
   "execution_count": null,
   "id": "3718454e-4148-4685-937d-6b2a4cce1cc8",
   "metadata": {
    "jupyter": {
     "source_hidden": true
    },
    "tags": []
   },
   "outputs": [],
   "source": [
    "(\n",
    "    pl.DataFrame(\n",
    "        {\n",
    "            \"date\":pl.date_range(start,stop,\"1mo\")\n",
    "        }\n",
    "    )\n",
    "    .with_column(\n",
    "        pl.col(\"date\").dt.tz_localize(\"Africa/Johannesburg\")\n",
    "    )\n",
    "    .with_column(\n",
    "        pl.col(\"date\").to_physical().alias(\"date_p\")\n",
    "    )\n",
    "    .with_column(\n",
    "        pl.col(\"date\").dt.with_time_zone(\"Europe/Dublin\").alias(\"date_dublin\")\n",
    "    )\n",
    "    .with_column(\n",
    "        (pl.col(\"date\") - pl.col(\"date_dublin\").dt.cast_time_zone(\"Africa/Johannesburg\"))\n",
    "        .alias(\"offset\")\n",
    "    )\n",
    ")"
   ]
  },
  {
   "cell_type": "markdown",
   "id": "e6775ecd-c244-490d-aabc-45ab77ab48d2",
   "metadata": {},
   "source": [
    "Why does the offset change over the months?\n",
    "\n",
    "Because there is daylight savings time (Irish Summer Time IST) applied in Dublin in August and September."
   ]
  },
  {
   "cell_type": "markdown",
   "id": "927f73c2-53f7-4ec2-bcd4-a53a8b3c8228",
   "metadata": {},
   "source": [
    "### Solution to exercise 2\n",
    "You have a weather station that records temperature at hourly intervals. The device records data in UTC."
   ]
  },
  {
   "cell_type": "code",
   "execution_count": null,
   "id": "d8cbbc90-8252-4e37-a680-d51fe1ff8fe0",
   "metadata": {},
   "outputs": [],
   "source": [
    "pl.Config.set_tbl_rows(25)\n",
    "import numpy as np\n",
    "start = datetime(2020,9,1)\n",
    "stop = datetime(2020,9,2)\n",
    "(\n",
    "    pl.DataFrame(\n",
    "        {\n",
    "            \"date\":pl.date_range(start,stop,\"1h\")\n",
    "        }\n",
    "    )\n",
    "    .with_column(\n",
    "        25 + 4*((2*np.pi*pl.col(\"date\").to_physical()/(24*60*60*1e6))).cos().alias(\"temperature\")\n",
    "    )\n",
    ")"
   ]
  },
  {
   "cell_type": "markdown",
   "id": "4c98ce4e-aa1c-402c-8fdc-568f01d30453",
   "metadata": {},
   "source": [
    "From the output we can see that the device is not located in the UTC timezone as the highest temperature is at night and the lowest is in the afternoon.\n",
    "\n",
    "Change the timezone to a location that has higher temperatures in the late afternoon and lower temperatures in the early night (<a href=\"https://docs.rs/chrono-tz/latest/chrono_tz/enum.Tz.html\" target=\"_blank\">there are obviously many such locations, you mainly need to figure out whether to go east or west!</a>\n",
    ")."
   ]
  },
  {
   "cell_type": "code",
   "execution_count": null,
   "id": "ebc0c3da-e0f6-4906-91e7-0765ef106a09",
   "metadata": {
    "jupyter": {
     "source_hidden": true
    },
    "tags": []
   },
   "outputs": [],
   "source": [
    "(\n",
    "    pl.DataFrame(\n",
    "        {\n",
    "            \"date\":pl.date_range(start,stop,\"1h\")\n",
    "        }\n",
    "    )\n",
    "    .with_column(\n",
    "        25 + 4*((2*np.pi*pl.col(\"date\").to_physical()/(24*60*60*1e6))).cos().alias(\"temperature\")\n",
    "    )\n",
    "    .with_column(\n",
    "        pl.col(\"date\").dt.with_time_zone(\"Brazil/West\")\n",
    "    )\n",
    ")"
   ]
  },
  {
   "cell_type": "code",
   "execution_count": null,
   "id": "6a48a5ce-c46c-4977-80f5-f89d770a6474",
   "metadata": {},
   "outputs": [],
   "source": []
  }
 ],
 "metadata": {
  "kernelspec": {
   "display_name": "Python 3 (ipykernel)",
   "language": "python",
   "name": "python3"
  },
  "language_info": {
   "codemirror_mode": {
    "name": "ipython",
    "version": 3
   },
   "file_extension": ".py",
   "mimetype": "text/x-python",
   "name": "python",
   "nbconvert_exporter": "python",
   "pygments_lexer": "ipython3",
   "version": "3.10.1"
  }
 },
 "nbformat": 4,
 "nbformat_minor": 5
}
