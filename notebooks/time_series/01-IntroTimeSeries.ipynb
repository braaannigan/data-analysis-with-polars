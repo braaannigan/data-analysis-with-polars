{
 "cells": [
  {
   "attachments": {},
   "cell_type": "markdown",
   "id": "fbdb88a1-5750-47d4-bc27-3418beafb62b",
   "metadata": {},
   "source": [
    "<img src=\"../assets/data_analysis_with_polars_copyright-1.png\" width=\"600\"/>\n",
    "\n",
    "This notebook is a free sample from my Data Analysis with Polars course on Udemy.\n",
    "\n",
    "Use this link to do the full course at half price: https://www.udemy.com/course/data-analysis-with-polars/?couponCode=POLARS_HALF_PRICE2\n",
    "\n",
    "Check out this accompanying video as well: https://www.youtube.com/watch?v=AKnHKUY308o\n",
    "\n",
    "\n",
    "## Introduction to datetime dtypes\n",
    "By the end of this lecture you will be able to:\n",
    "- create a datetime series with `pl.date_range`\n",
    "- explain the difference between Polars datetime dtypes\n",
    "- extract the integer representation underlying datetime dtypes\n",
    "\n",
    "Time series analysis is easier if you have a good understanding of the datetime dtypes and their underlying representation. We get to know the dtypes here.\n",
    "\n",
    "Time series dtypes behave in some ways like a categorical dtype with an underlying integer representation that maps to a more interpretable datetime representation. I recommend that you do the String and categorical dtypes lecture in Section 3 before doing this lecture.    "
   ]
  },
  {
   "cell_type": "code",
   "execution_count": null,
   "id": "5b084b17-bece-4e91-a635-6b6bd4e2a29d",
   "metadata": {},
   "outputs": [],
   "source": [
    "from datetime import date,datetime\n",
    "\n",
    "import polars as pl"
   ]
  },
  {
   "cell_type": "markdown",
   "id": "4a3be8b1-db4f-4187-b2e1-efc113b74f50",
   "metadata": {},
   "source": [
    "## Creating a date range\n",
    "Before looking at the dtypes we create a date range in Polars with `pl.date_range`. \n",
    "\n",
    "In this example we create an hourly date range and specify the start and stop dates with Python `datetime.date` objects"
   ]
  },
  {
   "cell_type": "code",
   "execution_count": null,
   "id": "19341ecc-0371-4a63-aa02-59584c67784a",
   "metadata": {},
   "outputs": [],
   "source": [
    "pl.Config.set_tbl_rows(4)\n",
    "start = date(2022,1,1)\n",
    "stop = date(2022,1,2)\n",
    "df = pl.DataFrame(\n",
    "    {\n",
    "        'date':pl.date_range(\n",
    "            low = start,\n",
    "            high = stop,\n",
    "            interval='1h'\n",
    "        ),\n",
    "    }\n",
    ")\n",
    "df"
   ]
  },
  {
   "cell_type": "markdown",
   "id": "c4e36fdc-a402-4647-a152-4e1e37813f8d",
   "metadata": {},
   "source": [
    "We can also specify the start and stop dates with python `datetime.datetime` objects"
   ]
  },
  {
   "cell_type": "code",
   "execution_count": null,
   "id": "72e9bac3-f303-4fe2-b0d8-5ba737736f06",
   "metadata": {},
   "outputs": [],
   "source": [
    "start = datetime(2022,1,1,6)\n",
    "stop = datetime(2022,1,2,3)\n",
    "df = pl.DataFrame(\n",
    "    {\n",
    "        'date':pl.date_range(\n",
    "            low = start,\n",
    "            high = stop,\n",
    "            interval='1h'\n",
    "        ),\n",
    "    }\n",
    ")\n",
    "df"
   ]
  },
  {
   "cell_type": "markdown",
   "id": "df5dab4c-0635-44fa-8861-8f3bf89eb10a",
   "metadata": {},
   "source": [
    "### Intervals\n",
    "\n",
    "We specify the interval as a string with the following units:\n",
    "- \"ns\"\n",
    "- \"us\"\n",
    "- \"ms\"\n",
    "- \"s\"\n",
    "- \"m\"\n",
    "- \"h\"\n",
    "- \"d\"\n",
    "- \"w\"\n",
    "- \"mo\"\n",
    "- \"y\"\n",
    "\n",
    "We can also concatenate the units"
   ]
  },
  {
   "cell_type": "code",
   "execution_count": null,
   "id": "854b1102-ef69-4871-af6f-5c8e14e7f330",
   "metadata": {},
   "outputs": [],
   "source": [
    "start = datetime(2022,1,1,6)\n",
    "stop = datetime(2022,1,2,3)\n",
    "df = pl.DataFrame(\n",
    "    {\n",
    "        'date':pl.date_range(\n",
    "            low = start,\n",
    "            high = stop,\n",
    "            interval='1h30m'\n",
    "        ),\n",
    "    }\n",
    ")\n",
    "df.head(2)"
   ]
  },
  {
   "cell_type": "markdown",
   "id": "41500820-227d-4df7-bf66-cd162259171a",
   "metadata": {},
   "source": [
    "Instead of the string intervals we can also use Python `datetime.timedelta` objects. The string intervals have more flexibility, however, so we will stick with those."
   ]
  },
  {
   "cell_type": "markdown",
   "id": "289aecb0-9c4e-4994-bc38-09a1584647f9",
   "metadata": {},
   "source": [
    "### Date range closure\n",
    "The default is for the date range to be closed on both sides. We can specify how this is done with the `closed` argument"
   ]
  },
  {
   "cell_type": "code",
   "execution_count": null,
   "id": "65a40014-78fd-4752-91cc-c5670f0fd05c",
   "metadata": {},
   "outputs": [],
   "source": [
    "pl.Config.set_tbl_rows(4)\n",
    "start = date(2022,1,1)\n",
    "stop = date(2022,1,2)\n",
    "df = pl.DataFrame({\n",
    "    'date':pl.date_range(\n",
    "        low = start,\n",
    "        high = stop,\n",
    "        interval='1h',\n",
    "        closed=\"left\"\n",
    "    ),\n",
    "})\n",
    "df"
   ]
  },
  {
   "cell_type": "markdown",
   "id": "2a07187b-efdf-4a8d-90da-3b928a0507de",
   "metadata": {},
   "source": [
    "## Datetime dtypes\n",
    "In the table we set out the Polars datetime dtypes and their key characteristics\n",
    "\n",
    "\n",
    "| dtype|Example |Time unit | Internal dtype |\n",
    "---|---|---|---|\n",
    "|`pl.Datetime` | 2020-01-01 01:00:00 |Microseconds since UNIX epoch | 64-bit signed integer |\n",
    "|`pl.Date` |2020-01-01 |Days since UNIX epoch | 32-bit signed integer |\n",
    "| `pl.Time` | 01:00:00 | Nanoseconds since midnight | 64-bit signed integer |\n",
    "|`pl.Duration` |1d 1h |Microseconds |  64-bit signed integer  |\n"
   ]
  },
  {
   "cell_type": "markdown",
   "id": "6c35143a-7121-46d3-be6f-11199286e7d1",
   "metadata": {},
   "source": [
    "> In Pandas and Numpy the Datetime objects use nanoseconds rather than microseconds by default.\n",
    "\n",
    "In the `DataFrame` below we create a date range at 6-hour intervals to see how it is represented in the different dtypes.\n",
    "\n",
    "We subtract successive values in the column of datetimes with `diff` to get a `pl.Duration`"
   ]
  },
  {
   "cell_type": "code",
   "execution_count": null,
   "id": "b9b9f7b7-6341-4627-b3f8-85e41f212f20",
   "metadata": {},
   "outputs": [],
   "source": [
    "start = datetime(2020,1,1)\n",
    "stop = datetime(2020,1,2)\n",
    "dfDatetimes = (\n",
    "    pl.DataFrame(\n",
    "        {\n",
    "            \"datetime\":pl.date_range(start,stop,interval=\"6h\")\n",
    "        }\n",
    "    ).with_columns(\n",
    "        [\n",
    "            pl.col(\"datetime\").cast(pl.Date).alias(\"date\"),\n",
    "            pl.col(\"datetime\").diff().alias(\"duration\"),\n",
    "            pl.col(\"datetime\").cast(pl.Time).alias(\"time\"),\n",
    "        ]\n",
    "    )\n",
    "\n",
    ")\n",
    "dfDatetimes"
   ]
  },
  {
   "cell_type": "markdown",
   "id": "8d92d8e0-f48e-4577-b3f4-a7ed50e32792",
   "metadata": {},
   "source": [
    "### Integer representations\n",
    "We get the underlying integer representations with `to_physical`"
   ]
  },
  {
   "cell_type": "code",
   "execution_count": null,
   "id": "a67ea3b4-bc64-450c-b4fb-617787b2177f",
   "metadata": {},
   "outputs": [],
   "source": [
    "dfDatetimesPhysical = (\n",
    "    dfDatetimes\n",
    "    .select(\n",
    "        [\n",
    "            pl.col(\"datetime\").to_physical().suffix(\"_us\"),\n",
    "            pl.col(\"date\").to_physical().suffix(\"_days\"),\n",
    "            pl.col(\"duration\").to_physical().suffix(\"_us\"),\n",
    "            pl.col(\"time\").to_physical().suffix(\"_ns\"),\n",
    "\n",
    "\n",
    "        ]\n",
    "            \n",
    "    )\n",
    ")\n",
    "dfDatetimesPhysical"
   ]
  },
  {
   "cell_type": "markdown",
   "id": "55aa5096-3c5d-4c55-b50b-d69a8156e825",
   "metadata": {},
   "source": [
    "With a 64-bit integer we can represent a datetime range of 584 billion years at microsecond intervals!"
   ]
  },
  {
   "cell_type": "markdown",
   "id": "5604ecf5-80fc-48f1-a5df-c18d85578cc9",
   "metadata": {},
   "source": [
    "### Timestamp\n",
    "The integer representation of a datetime is sometimes referred to as the timestamp. \n",
    "\n",
    "In Polars we have a `.dt.timestamp` expression that gives the integer representation in a given unit.\n",
    "\n",
    "In this example we get the integer representation in the available units"
   ]
  },
  {
   "cell_type": "code",
   "execution_count": null,
   "id": "dd9f4149-db03-4b79-a304-7a315df4a8db",
   "metadata": {},
   "outputs": [],
   "source": [
    "(\n",
    "    dfDatetimes\n",
    "    .select(\n",
    "        [\n",
    "            pl.col(\"datetime\"),\n",
    "            pl.col(\"datetime\").dt.timestamp(tu=\"ns\").alias(\"timestamp_ns\"),\n",
    "            pl.col(\"datetime\").dt.timestamp().alias(\"timestamp_us\"),\n",
    "            pl.col(\"datetime\").dt.timestamp(tu=\"ms\").alias(\"timestamp_ms\"),\n",
    "\n",
    "        ]\n",
    "        \n",
    "    )\n",
    ")\n",
    "            \n"
   ]
  },
  {
   "cell_type": "markdown",
   "id": "b82b5125-e354-4631-b05e-e4d9b503d9aa",
   "metadata": {},
   "source": [
    "There is also a `.dt.epoch` expression that is an alias for `.dt.timestamp`"
   ]
  },
  {
   "cell_type": "markdown",
   "id": "31f1cb1c-7c2a-4ed6-9ec4-b5f2bb7f0f81",
   "metadata": {},
   "source": [
    "## Exercises\n",
    "In the exercises you will develop your understanding of:\n",
    "- creating a date range\n",
    "- converting datetime dtypes\n",
    "- extracting the integer representation\n",
    " \n",
    "## Exercise 1\n",
    "Create a `DataFrame` with a column called `datetime` that has datetimes from the start of 2020 to 30th June 2022 at 6-monthly intervals"
   ]
  },
  {
   "cell_type": "code",
   "execution_count": null,
   "id": "716ac879-ec02-4354-8c61-da2dd1087d6d",
   "metadata": {},
   "outputs": [],
   "source": []
  },
  {
   "cell_type": "markdown",
   "id": "c40306d5-2b6a-439b-8c21-881d4d33ec4c",
   "metadata": {},
   "source": [
    "Extend your query by copying your existing code in each subsequent part of this exercise.\n",
    "\n",
    "Create this date range again but only including the end date"
   ]
  },
  {
   "cell_type": "code",
   "execution_count": null,
   "id": "4d8a18d4-900f-4d36-8810-e9abb6a19195",
   "metadata": {},
   "outputs": [],
   "source": []
  },
  {
   "cell_type": "markdown",
   "id": "b3c5c2b8-5b1a-43ba-9bd5-00d2874b7ac3",
   "metadata": {},
   "source": [
    "Add columns that encode the same date range as a:\n",
    "- date\n",
    "- time"
   ]
  },
  {
   "cell_type": "code",
   "execution_count": null,
   "id": "95c9fe29-4a43-4fc4-bfa9-c4570d6e9919",
   "metadata": {},
   "outputs": [],
   "source": []
  },
  {
   "cell_type": "markdown",
   "id": "abb7ca1c-8f6d-4a16-9fba-01cbd4adb8f2",
   "metadata": {},
   "source": [
    "Add three new columns that have the physical representation for the `datetime`, `date` and `time` columns. Each new column name should end with `_physical`.\n",
    "\n",
    "Challenge: do this as a single expression inside an additional `with_column`"
   ]
  },
  {
   "cell_type": "code",
   "execution_count": null,
   "id": "8e25c5c0-8bb3-40ad-a78c-c5e2973c0db5",
   "metadata": {},
   "outputs": [],
   "source": []
  },
  {
   "cell_type": "markdown",
   "id": "671d9703-dd7f-46d1-bcff-4af4d80ac96e",
   "metadata": {},
   "source": [
    "## Solutions\n",
    "\n",
    "## Solution to Exercise 1"
   ]
  },
  {
   "cell_type": "markdown",
   "id": "52664028-ec01-452c-b899-099d53d95e26",
   "metadata": {},
   "source": [
    "Create a `DataFrame` with a column called `datetime` that has datetimes from the start of 2020 to 30th June 2022 at 6-monthly intervals"
   ]
  },
  {
   "cell_type": "code",
   "execution_count": null,
   "id": "831662b0-7018-475c-8b0d-9d00c36cb9be",
   "metadata": {
    "jupyter": {
     "source_hidden": true
    },
    "tags": []
   },
   "outputs": [],
   "source": [
    "start = datetime(2020,1,1)\n",
    "stop = datetime(2022,6,30)\n",
    "df = (\n",
    "        pl.DataFrame(\n",
    "            {\n",
    "                \"datetime\":pl.date_range(\n",
    "                    low=start,\n",
    "                    high=stop,\n",
    "                    interval=\"6mo\"\n",
    "                )\n",
    "            }\n",
    "        )\n",
    ")\n",
    "df"
   ]
  },
  {
   "cell_type": "markdown",
   "id": "5a25c5e5-48ee-430c-8604-4c41a43a5420",
   "metadata": {},
   "source": [
    "Create this date range again but only including the end date"
   ]
  },
  {
   "cell_type": "code",
   "execution_count": null,
   "id": "ab189e7b-7c9e-4c3e-b0c9-a7e081dedcb4",
   "metadata": {
    "jupyter": {
     "source_hidden": true
    },
    "tags": []
   },
   "outputs": [],
   "source": [
    "df = (\n",
    "        pl.DataFrame(\n",
    "            {\n",
    "                \"datetime\":pl.date_range(\n",
    "                    low=start,\n",
    "                    high=stop,\n",
    "                    interval=\"6mo\",\n",
    "                    closed=\"right\"\n",
    "                )\n",
    "            }\n",
    "        )\n",
    ")\n",
    "df"
   ]
  },
  {
   "cell_type": "markdown",
   "id": "138fbf61-cb2e-48a8-97d7-caa0c5b6714b",
   "metadata": {},
   "source": [
    "Add columns that encode the same date range as a:\n",
    "- date\n",
    "- time"
   ]
  },
  {
   "cell_type": "code",
   "execution_count": null,
   "id": "47ecd4ac-fcca-4b0f-993a-cd2664d6e489",
   "metadata": {
    "jupyter": {
     "source_hidden": true
    },
    "tags": []
   },
   "outputs": [],
   "source": [
    "df = (\n",
    "        pl.DataFrame(\n",
    "            {\n",
    "                \"datetime\":pl.date_range(\n",
    "                    low=start,\n",
    "                    high=stop,\n",
    "                    interval=\"6mo\",\n",
    "                    closed=\"right\"\n",
    "                )\n",
    "            }\n",
    "        )\n",
    "    .with_columns(\n",
    "        [\n",
    "            pl.col(\"datetime\").cast(pl.Date).alias(\"date\"),\n",
    "            pl.col(\"datetime\").cast(pl.Time).alias(\"time\")\n",
    "        ]\n",
    "    )\n",
    "\n",
    ")\n",
    "df"
   ]
  },
  {
   "cell_type": "markdown",
   "id": "0e1d0194-2ded-46ad-83e3-de34fab973cc",
   "metadata": {},
   "source": [
    "Add three new columns that have the physical representation for the `datetime`, `date` and `time` columns. \n",
    "\n",
    "Challenge: do this as a single expression inside an additional `with_column`"
   ]
  },
  {
   "cell_type": "code",
   "execution_count": null,
   "id": "eb75d3e3-61ef-4d28-911b-2226cf7018e2",
   "metadata": {
    "jupyter": {
     "source_hidden": true
    },
    "tags": []
   },
   "outputs": [],
   "source": [
    "df = (\n",
    "        pl.DataFrame(\n",
    "            {\n",
    "                \"datetime\":pl.date_range(\n",
    "                    low=start,\n",
    "                    high=stop,\n",
    "                    interval=\"6mo\",\n",
    "                    closed=\"right\"\n",
    "                )\n",
    "            }\n",
    "        )\n",
    "    .with_columns(\n",
    "        [\n",
    "            pl.col(\"datetime\").cast(pl.Date).alias(\"date\"),\n",
    "            pl.col(\"datetime\").cast(pl.Time).alias(\"time\")\n",
    "        ]\n",
    "    )\n",
    "    .with_column(\n",
    "        pl.all().to_physical().suffix(\"_physical\")\n",
    "    )\n",
    "\n",
    ")\n",
    "df"
   ]
  },
  {
   "cell_type": "code",
   "execution_count": null,
   "id": "24e08a42-e16c-4e53-baa0-0ca158467b62",
   "metadata": {},
   "outputs": [],
   "source": []
  }
 ],
 "metadata": {
  "kernelspec": {
   "display_name": "Python 3",
   "language": "python",
   "name": "python3"
  },
  "language_info": {
   "codemirror_mode": {
    "name": "ipython",
    "version": 3
   },
   "file_extension": ".py",
   "mimetype": "text/x-python",
   "name": "python",
   "nbconvert_exporter": "python",
   "pygments_lexer": "ipython3",
   "version": "3.11.0 (main, Dec  8 2022, 11:31:47) [Clang 12.0.0 (clang-1200.0.31.1)]"
  },
  "vscode": {
   "interpreter": {
    "hash": "17436e704c3ebbe7f5da0f084f9308076a063f93cb54ab55aedf7f2f11c216ba"
   }
  }
 },
 "nbformat": 4,
 "nbformat_minor": 5
}
