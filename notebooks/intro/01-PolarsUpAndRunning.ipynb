{
 "cells": [
  {
   "cell_type": "markdown",
   "id": "dbc955f7-8776-4ab1-8bb3-006d603c6789",
   "metadata": {},
   "source": [
    "<img src=\"../assets/data_analysis_with_polars_copyright-1.png\" width=\"600\"/>\n",
    "\n",
    "# Up & running with `Polars`\n",
    "By the end of this lecture you will be able to:\n",
    "- import `Polars`\n",
    "- read data from a CSV file into a `DataFrame`\n",
    "- select rows and columns from a `DataFrame`\n",
    "- make a scatter plot with Plotly\n",
    "\n",
    "## Importing `Polars`\n",
    "\n",
    "By convention we import `Polars` as `pl`"
   ]
  },
  {
   "cell_type": "code",
   "execution_count": null,
   "id": "59ac9828-2f2a-4519-a95f-2d3cf7f2ebf4",
   "metadata": {
    "tags": []
   },
   "outputs": [],
   "source": [
    "import polars as pl\n",
    "import plotly.express as px"
   ]
  },
  {
   "cell_type": "markdown",
   "id": "1f26b0a1-9aed-407b-8fb3-d7be8f6e0b8e",
   "metadata": {},
   "source": [
    "## Reading from a CSV\n",
    "We will load data from our first CSV - the dataset of Titanic passengers. This is located in the data directory one level up from this notebook."
   ]
  },
  {
   "cell_type": "code",
   "execution_count": null,
   "id": "d9953a89-fd62-4b1c-b3b1-e101d48791aa",
   "metadata": {
    "tags": []
   },
   "outputs": [],
   "source": [
    "csvFile = '../data/titanic.csv'"
   ]
  },
  {
   "cell_type": "markdown",
   "id": "73fee1fb-e4c5-4afe-abda-f1b26e273f4d",
   "metadata": {},
   "source": [
    "Similar to Pandas we can read this CSV with `read_csv`. \n",
    "\n",
    "Exercise: on the next line after the CSV is read below print out the first few rows with the `.head` method. "
   ]
  },
  {
   "cell_type": "code",
   "execution_count": null,
   "id": "57012599-6ed3-4649-bc2b-6659df1911a1",
   "metadata": {
    "tags": [
     "hide_input"
    ]
   },
   "outputs": [],
   "source": [
    "df = pl.read_csv(csvFile)"
   ]
  },
  {
   "cell_type": "markdown",
   "id": "5248f4d0-ec38-47d7-a4dc-6f4c4cbcaf22",
   "metadata": {},
   "source": [
    "Each row in the Titanic dataset has details about a passenger on the Titanic along with a binary value in the `Survived` column to show if they survived `1` or died `0`.\n",
    "\n",
    ">The code above to load and read the CSV looks similar to `Pandas`. However, we can see the first difference with Pandas:\n",
    "\n",
    "> **Polars does not use an index**.\n",
    "\n",
    "> Polars is much faster than Pandas so the lack of an index in Polars is not a performance disadvantage. We will also see that Polars code is easier to read and write without an index. \n",
    "\n",
    "## Selecting data from a `DataFrame`\n",
    "\n",
    "We can look at a row using square bracket indexing with an integer row number."
   ]
  },
  {
   "cell_type": "code",
   "execution_count": null,
   "id": "7c087cce-273e-4c5d-be34-1b44a5476f37",
   "metadata": {
    "tags": [
     "hide_input"
    ]
   },
   "outputs": [],
   "source": [
    "df[0]"
   ]
  },
  {
   "cell_type": "markdown",
   "id": "b997f27e-4768-464a-b19e-024c4ca01daf",
   "metadata": {},
   "source": [
    "> Polars does not have a `loc` or `iloc` method. We will learn more about selecting data in Section 2.\n",
    "\n",
    "We can also select a column in the same way as in Pandas with square brackets."
   ]
  },
  {
   "cell_type": "code",
   "execution_count": null,
   "id": "9c849f0f-7041-413e-8878-44d22cf05a5c",
   "metadata": {
    "tags": []
   },
   "outputs": [],
   "source": [
    "df['Age'].head(3)"
   ]
  },
  {
   "cell_type": "markdown",
   "id": "2366dd77-9d98-4246-b6ad-b8e46ef338dc",
   "metadata": {},
   "source": [
    "## Simple statistics\n",
    "As in Pandas we can get simple statistics on a `DataFrame` or columns"
   ]
  },
  {
   "cell_type": "code",
   "execution_count": null,
   "id": "2ac36678-c938-438c-9a2d-db6c8994a229",
   "metadata": {
    "tags": []
   },
   "outputs": [],
   "source": [
    "df.mean()"
   ]
  },
  {
   "cell_type": "markdown",
   "id": "eaa2d204-00d8-4c26-b264-cff42dd4f1ce",
   "metadata": {},
   "source": [
    "## Visualisation\n",
    "To make a visualisation with Plotly we select the columns using `[]`"
   ]
  },
  {
   "cell_type": "code",
   "execution_count": null,
   "id": "7bd2cd36-834c-41ab-b9ec-5219818b4acd",
   "metadata": {
    "tags": []
   },
   "outputs": [],
   "source": [
    "px.scatter(\n",
    "    x=df[\"Age\"],\n",
    "    y=df[\"Fare\"],\n",
    "    color=df[\"Sex\"],\n",
    "    labels={'x':\"Age\",\"y\":\"Fare\",\"color\":\"Sex\"})"
   ]
  },
  {
   "cell_type": "markdown",
   "id": "7dd35564-398b-49fc-808f-61b134140bf2",
   "metadata": {},
   "source": [
    "## Exercises\n",
    "Each lecture will finish with some exercises for you. The solutions will be found at the bottom of the notebook.\n",
    "\n",
    "In the exercises you will develop your understanding of:\n",
    "- reading a CSV\n",
    "- getting simple statistics\n",
    "\n",
    "\n",
    "## Exercise 1 - use your Pandas experience\n",
    "Use your Pandas experience to get some information from the Titanic CSV\n",
    "\n",
    "First read the CSV into a `DataFrame` called `df` by replacing `<blank>` with your code."
   ]
  },
  {
   "cell_type": "code",
   "execution_count": null,
   "id": "1695d028-63e5-49c4-8281-28cdd4a20fbe",
   "metadata": {
    "tags": []
   },
   "outputs": [],
   "source": [
    "df = <blank>"
   ]
  },
  {
   "cell_type": "markdown",
   "id": "6f3f6006-c91d-4577-9f63-ab8e480f6ccf",
   "metadata": {},
   "source": [
    "Exercise 1 cont:\n",
    "- how many rows and columns are in the `DataFrame`\n",
    "- what is the average age and fare of the passengers?\n",
    "- what is the largest number of siblings `SibSp`?"
   ]
  },
  {
   "cell_type": "code",
   "execution_count": null,
   "id": "10fa5225-f840-4e77-9c51-83dd4772a89d",
   "metadata": {
    "tags": []
   },
   "outputs": [],
   "source": []
  },
  {
   "cell_type": "markdown",
   "id": "499f4f83-d723-4170-bfb8-e535b9c5ff9f",
   "metadata": {},
   "source": [
    "## Exercise 2: Visualisation\n",
    "Make a scatter plot of the passenger age `Age` versus the number of parents & children `Parch` with the sex in color."
   ]
  },
  {
   "cell_type": "code",
   "execution_count": null,
   "id": "78392b55-9176-4d0c-ba35-efd8b4b38fbb",
   "metadata": {
    "tags": []
   },
   "outputs": [],
   "source": []
  },
  {
   "cell_type": "markdown",
   "id": "2209f4a4-d4b3-4c8c-aa0c-f737bf18e342",
   "metadata": {},
   "source": [
    "## Solutions\n",
    "\n",
    "## Solution to Exercise 1"
   ]
  },
  {
   "cell_type": "code",
   "execution_count": null,
   "id": "63e5808b-483a-46fb-a63a-190c8a7e89c2",
   "metadata": {
    "jupyter": {
     "source_hidden": true
    },
    "tags": []
   },
   "outputs": [],
   "source": [
    "df = pl.read_csv(csvFile)"
   ]
  },
  {
   "cell_type": "markdown",
   "id": "cbe2ec3c-a97c-4449-90e7-3fb4c3202fc0",
   "metadata": {},
   "source": [
    "Number of rows and columns"
   ]
  },
  {
   "cell_type": "code",
   "execution_count": null,
   "id": "31417218-3b75-418b-985b-07655407fd1d",
   "metadata": {
    "jupyter": {
     "source_hidden": true
    },
    "tags": []
   },
   "outputs": [],
   "source": [
    "df.shape"
   ]
  },
  {
   "cell_type": "markdown",
   "id": "81e324bf-5599-4856-8e23-c16d80dd8222",
   "metadata": {},
   "source": [
    "Average of Age and Fare"
   ]
  },
  {
   "cell_type": "code",
   "execution_count": null,
   "id": "104bb07d-bacb-4feb-918b-463601f9e189",
   "metadata": {
    "jupyter": {
     "source_hidden": true
    },
    "tags": []
   },
   "outputs": [],
   "source": [
    "df[[\"Age\",\"Fare\"]].mean()"
   ]
  },
  {
   "cell_type": "markdown",
   "id": "e269dd20-52ef-4e7a-a410-d050d5d2ec86",
   "metadata": {},
   "source": [
    "Maximum number of siblings"
   ]
  },
  {
   "cell_type": "code",
   "execution_count": null,
   "id": "0ae56747-9227-4fe6-a831-ab5bd53352d3",
   "metadata": {
    "jupyter": {
     "source_hidden": true
    },
    "tags": []
   },
   "outputs": [],
   "source": [
    "df[\"SibSp\"].max()"
   ]
  },
  {
   "cell_type": "markdown",
   "id": "32c717b6-63a2-4530-952c-2655a464b50d",
   "metadata": {},
   "source": [
    "## Solution to Exercise 2"
   ]
  },
  {
   "cell_type": "code",
   "execution_count": null,
   "id": "8fcd739c-5eb9-4a1c-9f2d-6056ee5e8050",
   "metadata": {
    "jupyter": {
     "source_hidden": true
    },
    "tags": []
   },
   "outputs": [],
   "source": [
    "px.scatter(x=df[\"Age\"],y=df[\"Parch\"],    color=df[\"Sex\"],\n",
    ")"
   ]
  },
  {
   "cell_type": "code",
   "execution_count": null,
   "id": "1a4cbf99-e791-450d-bec9-56ef0ea3f2a0",
   "metadata": {
    "collapsed": true,
    "jupyter": {
     "outputs_hidden": true
    }
   },
   "outputs": [],
   "source": []
  }
 ],
 "metadata": {
  "kernelspec": {
   "display_name": "Python 3 (ipykernel)",
   "language": "python",
   "name": "python3"
  },
  "language_info": {
   "codemirror_mode": {
    "name": "ipython",
    "version": 3
   },
   "file_extension": ".py",
   "mimetype": "text/x-python",
   "name": "python",
   "nbconvert_exporter": "python",
   "pygments_lexer": "ipython3",
   "version": "3.10.1"
  }
 },
 "nbformat": 4,
 "nbformat_minor": 5
}
