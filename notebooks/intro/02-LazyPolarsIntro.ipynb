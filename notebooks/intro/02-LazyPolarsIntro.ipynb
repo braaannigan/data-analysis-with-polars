{
 "cells": [
  {
   "cell_type": "markdown",
   "id": "20f080a3-dc1c-4af9-bf60-6779f4ecdccf",
   "metadata": {},
   "source": [
    "<img src=\"../assets/data_analysis_with_polars_copyright-1.png\" width=\"600\"/>\n",
    "\n",
    "This notebook is a free sample from the Data Analysis with Polars course on Udemy.\n",
    "\n",
    "Use this link to do the full course at half price: https://www.udemy.com/course/data-analysis-with-polars/?couponCode=POLARS_HALF_PRICE\n",
    "\n",
    "\n",
    "# Lazy mode 1: Introducing lazy mode\n",
    "By the end of this lecture you will be able to:\n",
    "- create a `LazyFrame` from a CSV file\n",
    "- explain the difference between a `DataFrame` and a `LazyFrame`\n",
    "- print the optimized query plan\n",
    "\n",
    "## Code or queries?\n",
    "Data analysis often involves multiple steps:\n",
    "- loading data from a file or database\n",
    "- transforming the data\n",
    "- grouping by a column\n",
    "- ...\n",
    "\n",
    "We call the set of steps a **query**.\n",
    "\n",
    "We can write some lines of code that carry out a query step-by-step in eager mode.\n",
    "\n",
    "There are two problems with this approach:\n",
    "- Each line of code is not aware of what the others are doing.\n",
    "- Each line of code requires copying the full dataframe.\n",
    "\n",
    "We can instead write the steps as an integrated query in lazy mode.\n",
    "\n",
    "With an integrated query:\n",
    "- a query optimizer can identify efficiencies\n",
    "- a query engine can minimise the memory usage and produce a single output"
   ]
  },
  {
   "cell_type": "markdown",
   "id": "cbd4f472-c79e-4b57-ad03-ac9188059369",
   "metadata": {},
   "source": [
    "## What are eager and lazy modes?\n",
    "\n",
    "**Eager mode**: each line of code is run as soon as it is encountered.\n",
    "\n",
    "**Lazy mode**: each line is added to a query plan and the query plan is optimized.\n",
    "\n",
    "We introduce lazy mode in this lesson and we re-visit it again and again throughout the course. "
   ]
  },
  {
   "cell_type": "code",
   "execution_count": null,
   "id": "35ac8a3e-bb6e-41db-a3c1-93bb7bda3b3d",
   "metadata": {
    "tags": []
   },
   "outputs": [],
   "source": [
    "import polars as pl"
   ]
  },
  {
   "cell_type": "code",
   "execution_count": null,
   "id": "5bcf6a0c-81a7-4dc5-add5-451b3ee33442",
   "metadata": {
    "tags": []
   },
   "outputs": [],
   "source": [
    "csvFile = \"../data/titanic.csv\""
   ]
  },
  {
   "cell_type": "markdown",
   "id": "85529268-81c8-4bc1-a339-9bb3802bc5ee",
   "metadata": {},
   "source": [
    "## `DataFrames` and `LazyFrames`\n",
    "We **read** a CSV in eager mode with `pl.read_csv`. This creates a **`DataFrame`**"
   ]
  },
  {
   "cell_type": "code",
   "execution_count": null,
   "id": "027fb8cc-3837-497f-941d-0f9829403ac6",
   "metadata": {
    "tags": []
   },
   "outputs": [],
   "source": [
    "dfEager = pl.read_csv(csvFile)"
   ]
  },
  {
   "cell_type": "markdown",
   "id": "ba4290cd-9941-4a8e-bbcc-0067b975a412",
   "metadata": {},
   "source": [
    "We **scan** a CSV in lazy mode with `pl.scan_csv`. This creates a **`LazyFrame`**"
   ]
  },
  {
   "cell_type": "code",
   "execution_count": null,
   "id": "ee9c9dd2-0d62-481e-bce7-11fa498c316a",
   "metadata": {
    "tags": []
   },
   "outputs": [],
   "source": [
    "dfLazy = pl.scan_csv(csvFile)"
   ]
  },
  {
   "cell_type": "markdown",
   "id": "5488d898-abcd-4695-b521-4710f7a84873",
   "metadata": {},
   "source": [
    "> We look at what happens when you scan a CSV in more detail in the I/O section.\n",
    "\n",
    "We compare the types of `dfEager` and `dfLazy`"
   ]
  },
  {
   "cell_type": "code",
   "execution_count": null,
   "id": "8a4c5a3d-da2a-4eb9-8e1a-ddd7f1e34498",
   "metadata": {
    "tags": []
   },
   "outputs": [],
   "source": [
    "print(type(dfEager))\n",
    "print(type(dfLazy))"
   ]
  },
  {
   "cell_type": "markdown",
   "id": "e53788d6-8f00-4bcf-aaa5-55151e0dee1f",
   "metadata": {},
   "source": [
    "### What's the difference between a `DataFrame` and a `LazyFrame`?\n",
    "\n",
    "If we print a `DataFrame` we see data..."
   ]
  },
  {
   "cell_type": "code",
   "execution_count": null,
   "id": "3aab6fc8-5f96-4dbd-bcde-8f8e69fcec89",
   "metadata": {
    "tags": []
   },
   "outputs": [],
   "source": [
    "dfEager.head(2)"
   ]
  },
  {
   "cell_type": "markdown",
   "id": "5150c98e-38b1-4b7a-9550-62b3ca3fb39d",
   "metadata": {},
   "source": [
    "...but if we print a `LazyFrame` we see a **query plan**"
   ]
  },
  {
   "cell_type": "code",
   "execution_count": null,
   "id": "db3420e6-bdf0-446c-a709-5bbd5f06bcea",
   "metadata": {
    "tags": []
   },
   "outputs": [],
   "source": [
    "dfLazy"
   ]
  },
  {
   "cell_type": "markdown",
   "id": "5ca0d756-30a7-42e2-96ca-1629042b4989",
   "metadata": {},
   "source": [
    "**Key message: if you do something to a `DataFrame` it updates the data. If you do something to a `LazyFrame` it updates the query plan**.\n",
    "\n",
    "## What does Polars do with query plans?\n",
    "Polars creates a *naive query plan* from your query.\n",
    "\n",
    "`Polars` passes the naive query plan to its **query optimizer**. The query optimizer looks for more efficient ways to arrive at the output you want."
   ]
  },
  {
   "cell_type": "markdown",
   "id": "9276076c-b924-40b3-9c7f-e36f3676ac9d",
   "metadata": {},
   "source": [
    "Printing the output of the `describe_optimized_plan` method shows the optimized plan"
   ]
  },
  {
   "cell_type": "code",
   "execution_count": null,
   "id": "4a505c32-72ca-4a15-bd77-5523d3093b32",
   "metadata": {
    "tags": []
   },
   "outputs": [],
   "source": [
    "print(dfLazy.describe_optimized_plan())"
   ]
  },
  {
   "cell_type": "markdown",
   "id": "c19b0814-af01-4c72-a471-489f4554db1c",
   "metadata": {},
   "source": [
    "## What query optimizations are applied?\n",
    "Query optimizations aren't magic. Most optimizations could be implemented by users in a well-written query if the user:\n",
    "- knows the optimization exists \n",
    "- remembers to implement the optimization and \n",
    "- implements the optimization correctly!\n",
    "\n",
    "Optimizations applied by Polars include:\n",
    "- `projection pushdown` limit the number of columns read to those required\n",
    "- `predicate pushdown` apply filter conditions as early as possible\n",
    "- `slice pushdown` limit rows processed when limited rows are required\n",
    "- `combine predicates` combine multiple filter conditions\n",
    "- `common subplan elimination` combine duplicated transformations\n",
    "\n",
    "Polars also implements other optimisations such as fast-path algorithms on sorted data (separate from the query optimiser)."
   ]
  },
  {
   "cell_type": "markdown",
   "id": "2fab23df-8e50-41e4-994b-f9c9de70b41a",
   "metadata": {},
   "source": [
    "## Exercises\n",
    "\n",
    "In the exercises you will develop your understanding of:\n",
    "- creating a `LazyFrame` from a CSV file\n",
    "- printing the query plans\n",
    "\n",
    "## Exercise 1\n",
    "Create a `LazyFrame` by doing a scan of the Titanic CSV file"
   ]
  },
  {
   "cell_type": "code",
   "execution_count": null,
   "id": "53f443c2-bd23-48c2-90c1-56b4010fc0af",
   "metadata": {
    "tags": []
   },
   "outputs": [],
   "source": [
    "df = pl.<blank>"
   ]
  },
  {
   "cell_type": "markdown",
   "id": "44af8e79-770c-467c-922f-621bdbde8823",
   "metadata": {},
   "source": [
    "Ex 1 cont. \n",
    "\n",
    "Use the fetch statement and count how many rows it returns by default"
   ]
  },
  {
   "cell_type": "code",
   "execution_count": null,
   "id": "da382c5b-af3e-4c11-b4fa-0ab26dec6b4b",
   "metadata": {
    "tags": []
   },
   "outputs": [],
   "source": []
  },
  {
   "cell_type": "markdown",
   "id": "3b3c97f2-b985-4a22-859e-9e51ca1667ca",
   "metadata": {},
   "source": [
    "Ex 1 cont. \n",
    "Check to see which of the following metadata you can get from a `LazyFrame`:\n",
    "- number of rows\n",
    "- column names"
   ]
  },
  {
   "cell_type": "code",
   "execution_count": null,
   "id": "b7f6448e-57d0-403b-8375-7a49c9515fa6",
   "metadata": {
    "tags": []
   },
   "outputs": [],
   "source": []
  },
  {
   "cell_type": "markdown",
   "id": "02ac5d94-6481-4b15-8dde-9e86d7ee9ab9",
   "metadata": {},
   "source": [
    "## Exercise 2: converting between eager and lazy mode\n",
    "Create a `LazyFrame` from the Titanic CSV file"
   ]
  },
  {
   "cell_type": "code",
   "execution_count": null,
   "id": "6fee813c-f454-4145-8b99-a70c3f40e189",
   "metadata": {
    "tags": []
   },
   "outputs": [],
   "source": [
    "df = <blank>"
   ]
  },
  {
   "cell_type": "markdown",
   "id": "8d709f4f-43df-4eb0-94e7-49b033a621a0",
   "metadata": {},
   "source": [
    "Exercise 2 cont: Convert the `LazyFrame` to a `DataFrame`"
   ]
  },
  {
   "cell_type": "code",
   "execution_count": null,
   "id": "db2d6c50-8882-4c77-a5a6-440fd5ec8f4e",
   "metadata": {
    "tags": []
   },
   "outputs": [],
   "source": [
    "df = <blank>"
   ]
  },
  {
   "cell_type": "markdown",
   "id": "815f83a4-7976-447d-a076-002043a477a2",
   "metadata": {},
   "source": [
    "Exercise 2 cont: Convert the `DataFrame` to a `LazyFrame`"
   ]
  },
  {
   "cell_type": "code",
   "execution_count": null,
   "id": "63c0e80c-7022-4340-9e1e-10b752d12b68",
   "metadata": {
    "tags": []
   },
   "outputs": [],
   "source": [
    "df = <blank>"
   ]
  },
  {
   "cell_type": "markdown",
   "id": "305dbf31-92c2-469b-b35e-236282ff89c8",
   "metadata": {},
   "source": [
    "## Solutions\n",
    "\n",
    "## Solution to Exercise 1"
   ]
  },
  {
   "cell_type": "code",
   "execution_count": null,
   "id": "7f59b064-909a-42bc-b43c-0a75d4ae165c",
   "metadata": {
    "jupyter": {
     "source_hidden": true
    }
   },
   "outputs": [],
   "source": [
    "df = pl.scan_csv(csvFile)"
   ]
  },
  {
   "cell_type": "code",
   "execution_count": null,
   "id": "2a0ae92f-64bf-4859-99c3-336d2c5535fd",
   "metadata": {
    "jupyter": {
     "source_hidden": true
    }
   },
   "outputs": [],
   "source": [
    "df.fetch().shape"
   ]
  },
  {
   "cell_type": "markdown",
   "id": "3ecc464d-e1df-4321-9959-410ce37efb12",
   "metadata": {},
   "source": [
    "A `LazyFrame` does not know the number of rows in a CSV"
   ]
  },
  {
   "cell_type": "code",
   "execution_count": null,
   "id": "40d0ce15-2063-4b3f-996c-72a743dc8ed7",
   "metadata": {
    "jupyter": {
     "source_hidden": true
    }
   },
   "outputs": [],
   "source": [
    "# df.shape"
   ]
  },
  {
   "cell_type": "markdown",
   "id": "89d52f99-509c-455c-9348-53dc56ef6ff0",
   "metadata": {},
   "source": [
    "A `LazyFrame` does know the column names. As we will see in the I/O section `Polars` scans the first row of the CSV file to get column names in `pl.scan_csv`"
   ]
  },
  {
   "cell_type": "code",
   "execution_count": null,
   "id": "1b20cd34-2a75-49bd-88ae-2d950fb9e663",
   "metadata": {
    "jupyter": {
     "source_hidden": true
    }
   },
   "outputs": [],
   "source": [
    "df.columns"
   ]
  },
  {
   "cell_type": "markdown",
   "id": "6a5491b5-cb7b-43aa-af23-4519887c5de4",
   "metadata": {
    "jupyter": {
     "outputs_hidden": true
    }
   },
   "source": [
    "## Solution to Exercise 2\n",
    "\n",
    "Create a `LazyFrame` by doing a scan of the Titanic CSV file"
   ]
  },
  {
   "cell_type": "code",
   "execution_count": null,
   "id": "0dd99aa0-207d-42ee-b04c-78349513559f",
   "metadata": {
    "jupyter": {
     "source_hidden": true
    }
   },
   "outputs": [],
   "source": [
    "df = pl.scan_csv(csvFile)\n",
    "df"
   ]
  },
  {
   "cell_type": "markdown",
   "id": "e19d60b2-a0cf-451a-b495-dc2280ae008b",
   "metadata": {},
   "source": [
    "Exercise 2 cont: Convert the `LazyFrame` to a `DataFrame`"
   ]
  },
  {
   "cell_type": "code",
   "execution_count": null,
   "id": "fe521901-2fa8-4292-af23-8ca0ce4c95a3",
   "metadata": {
    "jupyter": {
     "source_hidden": true
    }
   },
   "outputs": [],
   "source": [
    "df = df.collect()\n",
    "df.head(3)"
   ]
  },
  {
   "cell_type": "code",
   "execution_count": null,
   "id": "506a797b-b332-4e68-bdad-bbfb495c77c9",
   "metadata": {
    "jupyter": {
     "source_hidden": true
    }
   },
   "outputs": [],
   "source": [
    "df = df.lazy()\n",
    "df"
   ]
  },
  {
   "cell_type": "code",
   "execution_count": null,
   "id": "8fae87b1-3db2-4ea1-bb5f-925fb0d4e9f3",
   "metadata": {
    "jupyter": {
     "source_hidden": true
    }
   },
   "outputs": [],
   "source": []
  },
  {
   "cell_type": "code",
   "execution_count": null,
   "id": "f8f25fcd-124d-4ba6-bdc5-f037756caff0",
   "metadata": {
    "jupyter": {
     "source_hidden": true
    }
   },
   "outputs": [],
   "source": []
  }
 ],
 "metadata": {
  "kernelspec": {
   "display_name": "Python 3 (ipykernel)",
   "language": "python",
   "name": "python3"
  },
  "language_info": {
   "codemirror_mode": {
    "name": "ipython",
    "version": 3
   },
   "file_extension": ".py",
   "mimetype": "text/x-python",
   "name": "python",
   "nbconvert_exporter": "python",
   "pygments_lexer": "ipython3",
   "version": "3.10.1"
  },
  "vscode": {
   "interpreter": {
    "hash": "aee8b7b246df8f9039afb4144a1f6fd8d2ca17a180786b69acc140d282b71a49"
   }
  }
 },
 "nbformat": 4,
 "nbformat_minor": 5
}
